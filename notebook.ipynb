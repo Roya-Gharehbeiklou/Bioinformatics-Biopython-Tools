{
 "cells": [
  {
   "cell_type": "markdown",
   "metadata": {},
   "source": [
    "# ACCESS BIOINFORMATICS DATABASES WITH BIO-PYTHON"
   ]
  },
  {
   "cell_type": "markdown",
   "metadata": {},
   "source": [
    "# 1. NCBI"
   ]
  },
  {
   "cell_type": "markdown",
   "metadata": {},
   "source": [
    "### Import Modules"
   ]
  },
  {
   "cell_type": "code",
   "execution_count": 20,
   "metadata": {},
   "outputs": [
    {
     "name": "stdout",
     "output_type": "stream",
     "text": [
      "['/Volumes/ROYA/Projects/BioPython', '/Library/Frameworks/Python.framework/Versions/3.12/lib/python312.zip', '/Library/Frameworks/Python.framework/Versions/3.12/lib/python3.12', '/Library/Frameworks/Python.framework/Versions/3.12/lib/python3.12/lib-dynload', '', '/Users/royagharehbeiklou/Library/Python/3.12/lib/python/site-packages', '/Library/Frameworks/Python.framework/Versions/3.12/lib/python3.12/site-packages']\n"
     ]
    }
   ],
   "source": [
    "import sys\n",
    "print(sys.path)\n"
   ]
  },
  {
   "cell_type": "code",
   "execution_count": 21,
   "metadata": {},
   "outputs": [
    {
     "name": "stdout",
     "output_type": "stream",
     "text": [
      "['flatbuffers-24.3.25.dist-info', 'fastjsonschema', 'overrides', 'missingno-0.5.2.dist-info', 'lesscpy', 'lxml-4.9.4.dist-info', 'arrow-1.3.0.dist-info', 'scipy-1.11.4.dist-info', 'async_lru-2.0.4.dist-info', 'h5py-3.11.0.dist-info', 'fastjsonschema-2.19.1.dist-info', 'tangled_up_in_unicode-0.2.0.dist-info', 'ply-3.11.dist-info', 'nbclient-0.10.0.dist-info', 'lifelines-0.27.8.dist-info', 'uri_template-1.3.0.dist-info', 'mdurl', 'packaging', 'opt_einsum', 'keras', 'kiwisolver-1.4.5.dist-info', 'bokeh-3.4.1.dist-info', 'ply', 'rfc3339_validator-0.1.4.dist-info', 'absl_py-2.1.0.dist-info', 'pygam', 'uc_micro', 'nbconvert-7.16.4.dist-info', 'fqdn-1.5.1.dist-info', 'astor-0.8.1.dist-info', 'filelock-3.16.1.dist-info', 'xgboost-2.0.3.dist-info', 'httpcore', 'cycler', 'networkx', 'Jinja2-3.1.2.dist-info', 'websocket', 'markupsafe', 'bokeh', 'keras_tuner', 'termcolor-2.4.0.dist-info', 'pyviz_comms', 'widgetsnbextension', 'h11', 'isoduration-20.11.0.dist-info', 'PyYAML-6.0.1.dist-info', 'clang', 'pandas-2.1.4.dist-info', 'setuptools-69.0.3.dist-info', 'visions', 'webencodings', 'tensorboard_data_server', 'dotenv', 'typing_extensions-4.11.0.dist-info', 'defusedxml', '.DS_Store', 'phik', 'nbformat', 'annotated_types', 'overrides-7.7.0.dist-info', 'mistune', 'pandas_profiling', 'webencodings-0.5.1.dist-info', 'attrs', 'extension', 'sympy', 'threadpoolctl.py', 'python_dateutil-2.8.2.dist-info', 'json5-0.9.25.dist-info', 'bleach', 'panel', 'optuna-3.5.0.dist-info', 'attrs-23.1.0.dist-info', 'mako', 'param-2.1.0.dist-info', 'astunparse-1.6.3.dist-info', 'autograd_gamma', 'pycparser', 'rpds', 'contourpy-1.2.0.dist-info', 'python_json_logger-2.0.7.dist-info', 'visions-0.7.6.dist-info', 'pylab.py', 'defusedxml-0.7.1.dist-info', 'ipywidgets', 'referencing-0.35.1.dist-info', 'grpcio-1.64.0.dist-info', 'jsonpointer-2.4.dist-info', 'argon2', 'httpcore-1.0.5.dist-info', 'google_pasta-0.2.0.dist-info', 'grpc', 'mpmath', 'pyparsing', 'werkzeug-3.0.3.dist-info', 'pydantic_core-2.18.2.dist-info', 'osqp-0.6.3.dist-info', 'past', 'pip-24.0.dist-info', 'numexpr-2.8.8.dist-info', 'jinja2', 'autograd', 'arrow', 'soupsieve', 'llvmlite-0.42.0.dist-info', 'jsonschema_specifications-2023.12.1.dist-info', 'markdown_it_py-3.0.0.dist-info', 'torchvision-0.20.1.dist-info', 'seaborn', 'isoduration', 'six-1.16.0.dist-info', 'ecos', 'h11-0.14.0.dist-info', 'fsspec', 'plotly-5.24.1.dist-info', 'fsspec-2024.10.0.dist-info', 'jupyterlab_plotly', 'markdown', 'llvmlite', 'qdldl.cpython-312-darwin.so', 'xgboost', 'pydantic-2.7.1.dist-info', 'numbergen', 'interface_meta', 'google', 'jsonpointer.py', 'numpy-1.26.2.dist-info', 'scikitplot', 'referencing', 'notebook_shim', 'pygraphviz-1.11.dist-info', 'joblib-1.4.2.dist-info', 'future-0.18.3.dist-info', 'autograd_gamma-0.5.0.dist-info', 'cffi', 'widgetsnbextension-4.0.10.dist-info', 'openpyxl-3.1.2.dist-info', 'pytz-2023.3.post1.dist-info', 'tzdata', 'linkify_it', 'torchvision', 'gast', 'annotated_types-0.6.0.dist-info', 'anyio-4.3.0.dist-info', 'markdown_it', 'rich-13.7.1.dist-info', 'jupyter_bokeh', 'typings', 'webcolors-1.13.dist-info', 'et_xmlfile', 'jupyterlab_server', 'Markdown-3.6.dist-info', 'send2trash', 'absl', 'pandocfilters-1.5.1.dist-info', 'dateutil-stubs', 'fqdn', 'typeguard-4.2.1.dist-info', 'optree-0.11.0.dist-info', 'jupyter_events-0.10.0.dist-info', 'fontTools', 'ml_dtypes-0.3.2.dist-info', 'idna', 'werkzeug', 'torio', 'osqppurepy', '_argon2_cffi_bindings', 'wheel', 'bs4', 'pywt', 'scikit_learn-1.5.0.dist-info', 'mistune-3.0.2.dist-info', 'tenacity', 'torch', 'mdit_py_plugins', 'tzdata-2023.3.dist-info', 'packaging-23.2.dist-info', 'pyviz_comms-3.0.2.dist-info', 'ydata_profiling', 'mpl_toolkits', 'pytz', 'uc_micro_py-1.0.3.dist-info', 'tenacity-9.0.0.dist-info', 'pygam-0.9.1.dist-info', 'filelock', '__pycache__', 'alembic-1.13.1.dist-info', 'nbformat-5.10.4.dist-info', 'progressbar', 'sqlalchemy', 'python_utils', 'argon2_cffi-23.1.0.dist-info', 'jupyter_events', 'nbclient', 'wrapt', 'kt_legacy-1.0.5.dist-info', 'plotly', 'numpy', 'pasta', 'param', 'scikit_survival-0.22.1.dist-info', 'wordcloud-1.9.3.dist-info', 'jupyterlab_pygments', 'protobuf-4.25.3.dist-info', 'torchaudio-2.5.1.dist-info', 'webcolors', 'astor', 'charset_normalizer', 'osqp', 'missingno', 'jupyterlab-4.2.1.dist-info', 'optree', 'PIL', 'requests', 'termcolor', 'python_utils-3.8.2.dist-info', 'gast-0.5.4.dist-info', '_plotly_utils', 'anyio', 'pip', 'soupsieve-2.5.dist-info', 'requests-2.31.0.dist-info', 'threadpoolctl-3.2.0.dist-info', 'babel', 'h5py', 'Send2Trash-1.8.3.dist-info', 'htmlmin-0.1.12.dist-info', 'progressbar2-4.4.2.dist-info', 'jupyter_lsp-2.2.5.dist-info', 'sklearn', 'cffi-1.16.0.dist-info', 'contourpy', 'ydata_profiling-4.8.3.dist-info', 'sniffio-1.3.1.dist-info', 'httpx', 'jupyterlab_widgets-3.0.10.dist-info', 'joblib', 'certifi', 'pandocfilters.py', 'mdurl-0.1.2.dist-info', 'statsmodels-0.14.2.dist-info', 'distutils-precedence.pth', 'imagehash', 'autograd-1.6.2.dist-info', 'mpmath-1.3.0.dist-info', 'Mako-1.3.0.dist-info', 'jupyterlab_pygments-0.3.0.dist-info', 'urllib3-2.1.0.dist-info', 'sniffio', 'attr', 'torch-2.5.1.dist-info', 'kerastuner', 'xlrd', 'jsonschema', 'bleach-6.1.0.dist-info', 'charset_normalizer-3.3.2.dist-info', 'tqdm', 'optuna', 'mdit_py_plugins-0.4.1.dist-info', 'lesscpy-0.15.1.dist-info', 'jupyter_bokeh-4.0.4.dist-info', 'kiwisolver', 'multimethod-1.10.dist-info', 'tensorboard-2.16.2.dist-info', 'tensorflow', 'isympy.py', 'keras-3.3.3.dist-info', '_yaml', 'tensorflow-2.16.1.dist-info', 'notebook-7.2.0.dist-info', 'six.py', 'tensorboard', 'libclang-18.1.1.dist-info', 'jupyter_server_terminals', 'json5', 'tinycss2', 'xlrd-2.0.1.dist-info', 'pycparser-2.22.dist-info', 'rfc3339_validator.py', '_ecos.cpython-312-darwin.so', 'torchaudio', 'cycler-0.12.1.dist-info', 'rich', 'jupyter_lsp', 'matplotlib-3.8.2.dist-info', 'formulaic-0.6.6.dist-info', 'matplotlib', 'python_docx-1.1.0.dist-info', 'wheel-0.43.0.dist-info', 'yaml', 'prometheus_client', 'pyparsing-3.1.1.dist-info', 'namex', 'fonttools-4.46.0.dist-info', 'README.txt', 'linkify_it_py-2.0.3.dist-info', 'namex-0.0.8.dist-info', 'jupyterthemes', 'rfc3986_validator.py', 'seaborn-0.13.0.dist-info', 'python_dotenv-1.0.0.dist-info', 'interface_meta-1.3.0.dist-info', 'jupyter_server', 'pythonjsonlogger', 'SQLAlchemy-2.0.23.dist-info', 'alembic', 'numba', 'torchgen', '_cffi_backend.cpython-312-darwin.so', 'urllib3', 'nbconvert', 'wordcloud', 'flatbuffers', 'opt_einsum-3.3.0.dist-info', 'rfc3986_validator-0.1.1.dist-info', 'jsonschema-4.22.0.dist-info', 'terminado-0.18.1.dist-info', 'uri_template', 'phik-0.12.3.dist-info', 'networkx-3.2.1.dist-info', 'jupyterthemes-0.20.0.dist-info', 'httpx-0.27.0.dist-info', 'sympy-1.13.1.dist-info', 'jupyterlab', 'sksurv', 'patsy', 'argon2_cffi_bindings-21.2.0.dist-info', 'jsonschema_specifications', 'setuptools', 'tangled_up_in_unicode', 'pkg_resources', 'notebook', 'certifi-2023.11.17.dist-info', 'xyzservices-2024.4.0.dist-info', 'jupyter_server-2.14.0.dist-info', '_distutils_hack', 'ecos-2.0.12.dist-info', 'terminado', 'numexpr', 'lifelines', 'Babel-2.15.0.dist-info', 'types_python_dateutil-2.9.0.20240316.dist-info', 'htmlmin', 'async_lru', 'et_xmlfile-1.1.0.dist-info', 'qdldl-0.1.7.post0.dist-info', 'ipywidgets-8.1.2.dist-info', 'tensorboard_data_server-0.7.2.dist-info', 'ImageHash-4.3.1.dist-info', 'dacite-1.8.1.dist-info', 'pydantic', 'statsmodels', 'tinycss2-1.3.0.dist-info', 'pygraphviz', 'jupyter_server_terminals-0.5.3.dist-info', 'prometheus_client-0.20.0.dist-info', 'libfuturize', 'tqdm-4.66.1.dist-info', 'beautifulsoup4-4.12.3.dist-info', 'keras_tuner-1.4.7.dist-info', 'future', 'lxml', 'jupyterlab_server-2.27.2.dist-info', 'scipy', 'ml_dtypes', 'astunparse', 'xyzservices', 'functorch', 'MarkupSafe-2.1.3.dist-info', 'formulaic', 'docx', 'patsy-0.5.6.dist-info', 'idna-3.6.dist-info', 'Pillow-10.1.0.dist-info', 'libpasteurize', 'colorlog-6.8.0.dist-info', 'numba-0.59.1.dist-info', 'typeguard', 'pywavelets-1.5.0.dist-info', 'pydantic_core', '_plotly_future_', 'panel-1.4.3.dist-info', 'pandas', 'dateutil', 'colorlog', 'dacite', 'rpds_py-0.18.1.dist-info', 'typing_extensions.py', 'openpyxl', 'scikit_plot-0.3.7.dist-info', 'jupyterlab_widgets', 'multimethod', 'notebook_shim-0.2.4.dist-info', 'wrapt-1.16.0.dist-info', 'websocket_client-1.8.0.dist-info']\n",
      "['platformdirs-4.1.0.dist-info', 'appnope', 'appnope-0.1.3.dist-info', 'pexpect-4.9.0.dist-info', 'decorator-5.1.1.dist-info', 'wcwidth', 'jupyter_core', 'ptyprocess-0.7.0.dist-info', 'pygments-2.17.2.dist-info', 'pygments', 'pure_eval', 'psutil-5.9.7.dist-info', 'comm-0.2.0.dist-info', 'debugpy', 'stack_data', 'IPython', 'jupyter_client', 'parso-0.8.3.dist-info', 'decorator.py', 'executing', 'ipykernel_launcher.py', 'matplotlib_inline', 'jedi', 'comm', '__pycache__', 'stack_data-0.6.3.dist-info', 'asttokens-2.4.1.dist-info', 'jedi-0.19.1.dist-info', 'pure_eval-0.2.2.dist-info', 'prompt_toolkit-3.0.43.dist-info', 'tornado', 'jupyter_core-5.5.1.dist-info', 'matplotlib_inline-0.1.6.dist-info', 'prompt_toolkit', 'jupyter_client-8.6.0.dist-info', 'pexpect', 'nest_asyncio-1.5.8.dist-info', 'ipython-8.18.1.dist-info', 'pyzmq-25.1.2.dist-info', 'ipykernel-6.27.1.dist-info', 'ptyprocess', 'asttokens', 'wcwidth-0.2.12.dist-info', 'parso', 'traitlets-5.14.0.dist-info', 'psutil', 'debugpy-1.8.0.dist-info', 'traitlets', 'zmq', 'ipykernel', 'executing-2.0.1.dist-info', 'nest_asyncio.py', 'platformdirs', 'jupyter.py', 'tornado-6.4.dist-info']\n"
     ]
    }
   ],
   "source": [
    "import os\n",
    "\n",
    "print(os.listdir('/Library/Frameworks/Python.framework/Versions/3.12/lib/python3.12/site-packages'))\n",
    "print(os.listdir('/Users/royagharehbeiklou/Library/Python/3.12/lib/python/site-packages'))\n"
   ]
  },
  {
   "cell_type": "code",
   "execution_count": 22,
   "metadata": {},
   "outputs": [
    {
     "name": "stdout",
     "output_type": "stream",
     "text": [
      "Imports successful!\n"
     ]
    }
   ],
   "source": [
    "from Bio.Blast import NCBIWWW\n",
    "from Bio import SeqIO, SearchIO\n",
    "print(\"Imports successful!\")\n"
   ]
  },
  {
   "cell_type": "markdown",
   "metadata": {},
   "source": [
    "## 1.1. Nucleotide BLAST"
   ]
  },
  {
   "cell_type": "code",
   "execution_count": 23,
   "metadata": {},
   "outputs": [
    {
     "name": "stdout",
     "output_type": "stream",
     "text": [
      "\u001b[1m\u001b[36mmyenv\u001b[m\u001b[m          notebook.ipynb nuc_seq.fasta  prot_seq.fasta\n"
     ]
    }
   ],
   "source": [
    "!ls"
   ]
  },
  {
   "cell_type": "code",
   "execution_count": 24,
   "metadata": {},
   "outputs": [
    {
     "data": {
      "text/plain": [
       "774"
      ]
     },
     "execution_count": 24,
     "metadata": {},
     "output_type": "execute_result"
    }
   ],
   "source": [
    "nuc_record = SeqIO.read(\"nuc_seq.fasta\", format = \"fasta\")\n",
    "len(nuc_record)"
   ]
  },
  {
   "cell_type": "code",
   "execution_count": null,
   "metadata": {},
   "outputs": [],
   "source": [
    "result_handle = NCBIWWW.qblast(\"blastn\", \"nt\", nuc_record.seq)\n",
    "blast_result = SearchIO.read(result_handle, \"blast-xml\")"
   ]
  },
  {
   "cell_type": "code",
   "execution_count": null,
   "metadata": {},
   "outputs": [],
   "source": [
    "print(blast_result[0:2])\n"
   ]
  },
  {
   "cell_type": "code",
   "execution_count": null,
   "metadata": {},
   "outputs": [],
   "source": [
    "Seq = blast_result[0]\n",
    "print(f\"Sequence ID: {Seq.id}\")\n",
    "print(f\"Sequence Description: {Seq.description}\")\n",
    "\n",
    "details = Seq[0]\n",
    "print(f\"E-value: {details.evalue}\")"
   ]
  },
  {
   "cell_type": "code",
   "execution_count": null,
   "metadata": {},
   "outputs": [],
   "source": [
    "print(f\"alignment:\\n{details.aln}\")"
   ]
  },
  {
   "cell_type": "markdown",
   "metadata": {},
   "source": [
    "## 1.2. Protein BLAST"
   ]
  },
  {
   "cell_type": "code",
   "execution_count": null,
   "metadata": {},
   "outputs": [],
   "source": [
    "prot_record = SeqIO.read(\"blastp\", format=\"fasta\")\n",
    "len(prot_record)"
   ]
  },
  {
   "cell_type": "code",
   "execution_count": null,
   "metadata": {},
   "outputs": [],
   "source": [
    "result_handle = NCBIWWW.qblast(\"blastp\", \"pdp\", prot_record.seq)\n",
    "blast_result = SearchIO.read(result_handle, \"blast-xml\")"
   ]
  },
  {
   "cell_type": "code",
   "execution_count": null,
   "metadata": {},
   "outputs": [],
   "source": [
    "print(blast_result[0:2])"
   ]
  },
  {
   "cell_type": "code",
   "execution_count": null,
   "metadata": {},
   "outputs": [],
   "source": [
    "Seq = blast_result [0]\n",
    "print(f\"Sequence ID: {Seq.id}\")\n",
    "print(f\"Sequence Description: {Seq.description}\")\n",
    "\n",
    "details = Seq[0]\n",
    "print(f\"E-value: {details.evalue}\")"
   ]
  },
  {
   "cell_type": "code",
   "execution_count": null,
   "metadata": {},
   "outputs": [],
   "source": [
    "print(f\"alignment:\\n {details.aln}\")"
   ]
  },
  {
   "cell_type": "markdown",
   "metadata": {},
   "source": [
    "------------------------------------------------------"
   ]
  },
  {
   "cell_type": "markdown",
   "metadata": {},
   "source": [
    "# 2. ENTREZ"
   ]
  },
  {
   "cell_type": "markdown",
   "metadata": {},
   "source": [
    "### Import Modules"
   ]
  },
  {
   "cell_type": "code",
   "execution_count": null,
   "metadata": {},
   "outputs": [],
   "source": [
    "from Bio import Entrez"
   ]
  },
  {
   "cell_type": "code",
   "execution_count": null,
   "metadata": {},
   "outputs": [],
   "source": [
    "Entrez.email = \"gharehbeiklou.r@gmail.com\""
   ]
  },
  {
   "cell_type": "code",
   "execution_count": null,
   "metadata": {},
   "outputs": [],
   "source": [
    "handle = Entrez.einfo()\n",
    "record = Entrez.read(handle)\n",
    "record[\"DbList\"]"
   ]
  },
  {
   "cell_type": "markdown",
   "metadata": {},
   "source": [
    "## 2.1. PUBMED"
   ]
  },
  {
   "cell_type": "code",
   "execution_count": null,
   "metadata": {},
   "outputs": [],
   "source": [
    "handle = Entrez.einfo(db = \"pubmed\")\n",
    "record = Entrez.read(handle)\n",
    "record[\"DbInfo\"][\"\"]"
   ]
  },
  {
   "cell_type": "code",
   "execution_count": null,
   "metadata": {},
   "outputs": [],
   "source": [
    "record[\"DbInfo\"][\"Count\"]"
   ]
  },
  {
   "cell_type": "code",
   "execution_count": null,
   "metadata": {},
   "outputs": [],
   "source": [
    "handle = Entrez.esearch(db=\"pubmed\", term=\"biopython\")\n",
    "record = Entrez.read(handle)\n",
    "record[\"IdList\"]\n"
   ]
  },
  {
   "cell_type": "code",
   "execution_count": null,
   "metadata": {},
   "outputs": [],
   "source": [
    "handle = Entrez.esummary(db=\"pubmed\", id='33242467, 32044951')\n",
    "records = Entrez.parse(handle)\n",
    "\n",
    "\n",
    "for record in records:\n",
    "    print(record['AutorList'], record['Title'], record['PubDate'], record['FullJournalName'])"
   ]
  },
  {
   "cell_type": "code",
   "execution_count": null,
   "metadata": {},
   "outputs": [],
   "source": [
    "handle = Entrez.efetch(db=\"pubmed\", id=\"19811691\")\n",
    "print(handle.read())"
   ]
  },
  {
   "cell_type": "markdown",
   "metadata": {},
   "source": [
    "## 2.2. Nucleotide"
   ]
  },
  {
   "cell_type": "code",
   "execution_count": null,
   "metadata": {},
   "outputs": [],
   "source": [
    "handle = Entrez.esearch(db=\"nucleotide\", retmax = 10, term = \"Severe acute respiratory syndrome\")\n",
    "record = Entrez.read(handle)\n",
    "record[\"IdList\"]"
   ]
  },
  {
   "cell_type": "code",
   "execution_count": null,
   "metadata": {
    "scrolled": true
   },
   "outputs": [],
   "source": [
    "handle.Entrez.efetch(db = \"nucleotide\", id = '1993774296', rettype = \"gb\", retmode = \"text\")\n",
    "print(handle.read())"
   ]
  },
  {
   "cell_type": "code",
   "execution_count": null,
   "metadata": {},
   "outputs": [],
   "source": []
  },
  {
   "cell_type": "code",
   "execution_count": null,
   "metadata": {},
   "outputs": [],
   "source": [
    "handle = Entrez.esearch(db='nucleotide', term='accD[Gene Name] And \"E. coli[Organism]\"', retmax=\"20\")\n",
    "result_list = Entrez.read(handle)"
   ]
  },
  {
   "cell_type": "code",
   "execution_count": null,
   "metadata": {},
   "outputs": [],
   "source": [
    "id_list = result_list['IdList']\n",
    "count = result_list['Count']\n",
    "\n",
    "print(id_list)\n",
    "print(\"\\n\")\n",
    "print(count)"
   ]
  },
  {
   "cell_type": "code",
   "execution_count": null,
   "metadata": {},
   "outputs": [],
   "source": [
    "handle.close()"
   ]
  },
  {
   "cell_type": "markdown",
   "metadata": {},
   "source": [
    "------------------------------------------------------"
   ]
  },
  {
   "cell_type": "markdown",
   "metadata": {},
   "source": [
    "# 3. PDB"
   ]
  },
  {
   "cell_type": "markdown",
   "metadata": {},
   "source": [
    "### Import Modules"
   ]
  },
  {
   "cell_type": "code",
   "execution_count": null,
   "metadata": {},
   "outputs": [],
   "source": [
    "from Bio.PDB import PDBParser,PDBList"
   ]
  },
  {
   "cell_type": "code",
   "execution_count": null,
   "metadata": {},
   "outputs": [],
   "source": [
    "pdbl = PDBList()\n",
    "pdbl.retrieve_pdb_file(\"7BYR\", file_format = \"pdb\", pdir = \"dir\")\n"
   ]
  },
  {
   "cell_type": "code",
   "execution_count": null,
   "metadata": {
    "scrolled": true
   },
   "outputs": [],
   "source": [
    "parser = PDBParser()\n",
    "structure = parser.get_structure(\"7BYR\", \"dir/pdb7byr.ent\")"
   ]
  },
  {
   "cell_type": "code",
   "execution_count": null,
   "metadata": {},
   "outputs": [],
   "source": [
    "for chain in structure[0]:\n",
    "    print(f\"chainid : {chain.id}\")"
   ]
  },
  {
   "cell_type": "code",
   "execution_count": null,
   "metadata": {},
   "outputs": [],
   "source": [
    "resolution = structure.header[\"resolution\"]\n",
    "resolution"
   ]
  },
  {
   "cell_type": "code",
   "execution_count": null,
   "metadata": {},
   "outputs": [],
   "source": [
    "keywords = structure.header[\"keywords\"]\n",
    "keywords"
   ]
  },
  {
   "cell_type": "markdown",
   "metadata": {},
   "source": [
    "------------------------------------------------------"
   ]
  },
  {
   "cell_type": "markdown",
   "metadata": {},
   "source": [
    "# 4. EXPASY"
   ]
  },
  {
   "cell_type": "markdown",
   "metadata": {},
   "source": [
    "## 4.1. PROSITE"
   ]
  },
  {
   "cell_type": "markdown",
   "metadata": {},
   "source": [
    "### Import Modules"
   ]
  },
  {
   "cell_type": "code",
   "execution_count": null,
   "metadata": {},
   "outputs": [],
   "source": [
    "from Bio import ExPASy\n",
    "from Bio.ExPASy import Prosite"
   ]
  },
  {
   "cell_type": "code",
   "execution_count": null,
   "metadata": {},
   "outputs": [],
   "source": [
    "help(Prosite)"
   ]
  },
  {
   "cell_type": "code",
   "execution_count": null,
   "metadata": {},
   "outputs": [],
   "source": [
    "handle = ExPASy.get_prosite_raw('PS51442')\n",
    "record = Prosite.read(handle)"
   ]
  },
  {
   "cell_type": "code",
   "execution_count": null,
   "metadata": {
    "scrolled": false
   },
   "outputs": [],
   "source": [
    "print(record.description)"
   ]
  },
  {
   "cell_type": "code",
   "execution_count": null,
   "metadata": {},
   "outputs": [],
   "source": [
    "print(record.pdb_structs[:10])"
   ]
  },
  {
   "cell_type": "code",
   "execution_count": null,
   "metadata": {},
   "outputs": [],
   "source": [
    "handle = ExPASy.get_prosite_raw('PS00001')\n",
    "record = Prosite.read(handle)\n",
    "print(record.pattern)"
   ]
  },
  {
   "cell_type": "markdown",
   "metadata": {},
   "source": [
    "## 4.2. ScanProsite"
   ]
  },
  {
   "cell_type": "markdown",
   "metadata": {},
   "source": [
    "### Import Modules"
   ]
  },
  {
   "cell_type": "code",
   "execution_count": null,
   "metadata": {},
   "outputs": [],
   "source": [
    "from Bio.ExPASy import ScanProsite"
   ]
  },
  {
   "cell_type": "code",
   "execution_count": null,
   "metadata": {},
   "outputs": [],
   "source": [
    "prot_record = SeqIO.read(\"prot_seq.fasta\", format=\"fasta\")\n",
    "len(prot_record.seq)"
   ]
  },
  {
   "cell_type": "code",
   "execution_count": null,
   "metadata": {},
   "outputs": [],
   "source": [
    "handle = ScanProsite.scan(seq=prot_record.seq, mirror=\"https://prosite.expasy.org/\")\n",
    "result = ScanProsite.read(handle)"
   ]
  },
  {
   "cell_type": "code",
   "execution_count": null,
   "metadata": {},
   "outputs": [],
   "source": [
    "result.n_match"
   ]
  },
  {
   "cell_type": "code",
   "execution_count": null,
   "metadata": {},
   "outputs": [],
   "source": [
    "result[0]"
   ]
  },
  {
   "cell_type": "markdown",
   "metadata": {},
   "source": [
    "------------------------------------------------------"
   ]
  },
  {
   "cell_type": "markdown",
   "metadata": {},
   "source": [
    "# 5. KEGG"
   ]
  },
  {
   "cell_type": "markdown",
   "metadata": {},
   "source": [
    "### Import Modules"
   ]
  },
  {
   "cell_type": "code",
   "execution_count": null,
   "metadata": {},
   "outputs": [],
   "source": [
    "from Bio.KEGG import REST, Enzyme"
   ]
  },
  {
   "cell_type": "code",
   "execution_count": null,
   "metadata": {},
   "outputs": [],
   "source": [
    "help(Enzyme)"
   ]
  },
  {
   "cell_type": "code",
   "execution_count": null,
   "metadata": {},
   "outputs": [],
   "source": [
    "request = REST.kegg_get(\"ec:5.4.2.2\")\n",
    "open(\"ec_5.4.2.2.txt\", \"w\").write(request.read())"
   ]
  },
  {
   "cell_type": "code",
   "execution_count": null,
   "metadata": {},
   "outputs": [],
   "source": [
    "records = Enzyme.parse(open(\"ec_5.4.2.2.txt\"))\n",
    "record = list(record)[0]\n",
    "record.classname"
   ]
  },
  {
   "cell_type": "code",
   "execution_count": null,
   "metadata": {},
   "outputs": [],
   "source": [
    "record.pathway"
   ]
  },
  {
   "cell_type": "code",
   "execution_count": null,
   "metadata": {},
   "outputs": [],
   "source": [
    "record.genes[:10]"
   ]
  },
  {
   "cell_type": "code",
   "execution_count": null,
   "metadata": {},
   "outputs": [],
   "source": [
    "list_genes = []\n",
    "for x,y in record.genes: \n",
    "    list_genes += x.split(\"\\n\")\n",
    "print(list_genes[:10])"
   ]
  },
  {
   "cell_type": "markdown",
   "metadata": {},
   "source": [
    "------------------------------------------------------"
   ]
  }
 ],
 "metadata": {
  "kernelspec": {
   "display_name": "Python 3",
   "language": "python",
   "name": "python3"
  },
  "language_info": {
   "codemirror_mode": {
    "name": "ipython",
    "version": 3
   },
   "file_extension": ".py",
   "mimetype": "text/x-python",
   "name": "python",
   "nbconvert_exporter": "python",
   "pygments_lexer": "ipython3",
   "version": "3.12.1"
  }
 },
 "nbformat": 4,
 "nbformat_minor": 4
}
